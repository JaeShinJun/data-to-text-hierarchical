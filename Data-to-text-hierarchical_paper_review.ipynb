{
 "cells": [
  {
   "cell_type": "markdown",
   "metadata": {},
   "source": [
    "# Preprocess.py"
   ]
  },
  {
   "cell_type": "code",
   "execution_count": 1,
   "metadata": {},
   "outputs": [],
   "source": [
    ".vocab.pt"
   ]
  },
  {
   "cell_type": "code",
   "execution_count": 2,
   "metadata": {},
   "outputs": [],
   "source": [
    "def _get_parser():\n",
    "    parser = ArgumentParser(description='preprocess.py')\n",
    "\n",
    "    opts.config_opts(parser)\n",
    "    opts.preprocess_opts(parser)\n",
    "    return parser"
   ]
  },
  {
   "cell_type": "markdown",
   "metadata": {},
   "source": [
    "# Train.py\n",
    "### Train Flow\n",
    "```\n",
    "+-- train.py main()\n",
    "|   +-- onmt/bin/train.py main()\n",
    "|   |   +-- onmt/bin/train.py train()\n",
    "|   |   |   +-- onmt/inputters/inputter.py build_dataset_iter\n",
    "|   |   |   |-- onmt/bin/train.py single_main() (main())\n",
    "|   |   |   |   +-- \n",
    "```"
   ]
  },
  {
   "cell_type": "markdown",
   "metadata": {},
   "source": [
    ".vocab.pt"
   ]
  },
  {
   "cell_type": "code",
   "execution_count": null,
   "metadata": {},
   "outputs": [],
   "source": []
  }
 ],
 "metadata": {
  "kernelspec": {
   "display_name": "Python 3",
   "language": "python",
   "name": "python3"
  },
  "language_info": {
   "codemirror_mode": {
    "name": "ipython",
    "version": 3
   },
   "file_extension": ".py",
   "mimetype": "text/x-python",
   "name": "python",
   "nbconvert_exporter": "python",
   "pygments_lexer": "ipython3",
   "version": "3.6.10"
  }
 },
 "nbformat": 4,
 "nbformat_minor": 4
}
